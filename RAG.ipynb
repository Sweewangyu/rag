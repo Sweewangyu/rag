{
 "cells": [
  {
   "cell_type": "code",
   "execution_count": 1,
   "metadata": {},
   "outputs": [
    {
     "name": "stdout",
     "output_type": "stream",
     "text": [
      "Processing D:\\Desktop\\基于运营商文本数据的知识库检索\\A_document\\AF01.pdf...\n",
      "[                                        ] (0/8====[=====                                   ] (1/====[==========                              ] (2/8====[===============                         ] (3/====[====================                    ] (4/8====[=========================               ] (5/====[==============================          ] (6/8====[===================================     ] (7/====[========================================] (8/8]\n"
     ]
    },
    {
     "data": {
      "text/plain": [
       "15197"
      ]
     },
     "execution_count": 1,
     "metadata": {},
     "output_type": "execute_result"
    }
   ],
   "source": [
    "import pymupdf4llm\n",
    "\n",
    "md_text = pymupdf4llm.to_markdown(r\"D:\\Desktop\\基于运营商文本数据的知识库检索\\A_document\\AF01.pdf\")\n",
    "\n",
    "# now work with the markdown text, e.g. store as a UTF8-encoded file\n",
    "import pathlib\n",
    "pathlib.Path(\"output.md\").write_bytes(md_text.encode())"
   ]
  }
 ],
 "metadata": {
  "kernelspec": {
   "display_name": "llm",
   "language": "python",
   "name": "python3"
  },
  "language_info": {
   "codemirror_mode": {
    "name": "ipython",
    "version": 3
   },
   "file_extension": ".py",
   "mimetype": "text/x-python",
   "name": "python",
   "nbconvert_exporter": "python",
   "pygments_lexer": "ipython3",
   "version": "3.9.19"
  }
 },
 "nbformat": 4,
 "nbformat_minor": 2
}
